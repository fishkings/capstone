{
 "cells": [
  {
   "cell_type": "code",
   "execution_count": 1,
   "id": "4ed35cbc",
   "metadata": {
    "ExecuteTime": {
     "end_time": "2023-10-17T07:23:22.279870Z",
     "start_time": "2023-10-17T07:23:21.999582Z"
    }
   },
   "outputs": [],
   "source": [
    "import requests\n",
    "import json\n"
   ]
  },
  {
   "cell_type": "code",
   "execution_count": 2,
   "id": "9af2cf33",
   "metadata": {
    "ExecuteTime": {
     "end_time": "2023-10-17T07:24:31.504025Z",
     "start_time": "2023-10-17T07:24:31.317355Z"
    },
    "scrolled": true
   },
   "outputs": [
    {
     "name": "stdout",
     "output_type": "stream",
     "text": [
      "{'access_token': 'jr-fkyEGixhwEeAiQBv8b7bjZZwGXZKemqkKKiUNAAABizyFlrGIenTzhLqDRQ', 'token_type': 'bearer', 'refresh_token': 'baRmYoo-XRiuq2aqTNAhsfy9ftkH2hdFVVIKKiUNAAABizyFlq6IenTzhLqDRQ', 'expires_in': 21599, 'scope': 'talk_message', 'refresh_token_expires_in': 5183999}\n"
     ]
    }
   ],
   "source": [
    " url = \"https://kauth.kakao.com/oauth/token\"\n",
    "data = {\n",
    "    \"grant_type\" : \"authorization_code\",\n",
    "    \"client_id\" : \"{REST API KEY}\",\n",
    "    \"redirect_url\" : \"https://localhost:3000\",\n",
    "    \"code\" : \"{code}\"\n",
    "}\n",
    "response = requests.post(url, data=data)\n",
    "tokens = response.json()\n",
    "print(tokens)"
   ]
  },
  {
   "cell_type": "code",
   "execution_count": 3,
   "id": "145e60fd",
   "metadata": {
    "ExecuteTime": {
     "end_time": "2023-10-17T07:24:42.494475Z",
     "start_time": "2023-10-17T07:24:42.484482Z"
    }
   },
   "outputs": [],
   "source": [
    "with open(\"kakao_code.json\", \"w\") as fp:\n",
    "    json.dump(tokens, fp)"
   ]
  },
  {
   "cell_type": "code",
   "execution_count": 114,
   "id": "e8f0aed4",
   "metadata": {
    "ExecuteTime": {
     "end_time": "2023-10-17T11:12:38.481444Z",
     "start_time": "2023-10-17T11:12:38.364178Z"
    }
   },
   "outputs": [
    {
     "name": "stdout",
     "output_type": "stream",
     "text": [
      "메시지를 성공적으로 보냈습니다.\n"
     ]
    }
   ],
   "source": [
    "headers = {\n",
    "    'Content-Type': 'application/x-www-form-urlencoded',\n",
    "    'Authorization': 'Bearer ${access_token}',\n",
    "}\n",
    "\n",
    "data = {\n",
    "    'template_object' : json.dumps({\n",
    "        \"object_type\": \"text\",\n",
    "        \"text\": \"텍스트 영역입니다. 최대 200자 표시 가능합니다.\",\n",
    "        \"link\": {\n",
    "        \"web_url\": \"https://www.google.com/\",\n",
    "        \"mobile_web_url\": \"https://www.google.com/\"\n",
    "        },\n",
    "        \"button_title\": \"바로 확인\"\n",
    "    })\n",
    "}\n",
    "\n",
    "\n",
    "\n",
    "\n",
    "requests.post('https://kapi.kakao.com/v2/api/talk/memo/send', headers = headers, data = data)\n",
    "\n",
    "if response.json().get('result_code') == None:\n",
    "    print('메시지를 성공적으로 보냈습니다.')\n",
    "else:\n",
    "    print('메시지를 성공적으로 보내지 못했습니다. 오류메시지 : ' + str(response.json()))"
   ]
  },
  {
   "cell_type": "code",
   "execution_count": 48,
   "id": "f070534b",
   "metadata": {
    "ExecuteTime": {
     "end_time": "2023-10-17T11:35:32.489521Z",
     "start_time": "2023-10-17T11:35:32.395175Z"
    }
   },
   "outputs": [
    {
     "name": "stdout",
     "output_type": "stream",
     "text": [
      "메시지를 성공적으로 보냈습니다.\n"
     ]
    }
   ],
   "source": [
    "headers = {\n",
    "    'Content-Type': 'application/x-www-form-urlencoded',\n",
    "    'Authorization': 'Bearer ${Xf6Wyoqo7zU9eYpUZZ7fSgg_vI4H5oB0E28KKwzTAAABi0LNzU2IenTzhLqDRQ}',\n",
    "}\n",
    "template = {\n",
    "    \"object_type\" : \"list\",\n",
    "    \"header_title\" : \"Google\",\n",
    "    \"header_link\" : {\n",
    "        \"web_url\" : \"www.google.com\",\n",
    "        \"mobile_web_url\" : \"www.google.com\"\n",
    "    },\n",
    "    \"contents\" : [\n",
    "        {\n",
    "            \"title\" : \"구글\",\n",
    "            \"description\" : \"chrome\",\n",
    "            \"image_url\" : \" \",\n",
    "            \"image_width\" : 50, \"image_height\" : 50,\n",
    "            \"link\" : {\n",
    "                \"web_url\" : \"https://www.google.com/\",\n",
    "                \"mobile_web_url\" : \"https://www.google.com/\"\n",
    "            }\n",
    "        },\n",
    "        {\n",
    "            \"title\" : \"네이버\",\n",
    "            \"description\" : \"naver\",\n",
    "            \"image_url\" : \"\",\n",
    "            \"image_width\" : 50, \"image_height\" : 50,\n",
    "            \"link\" : {\n",
    "                \"web_url\" : \"https://www.naver.com\",\n",
    "                \"mobile_web_url\" : \"https://www.naver.com\"\n",
    "            }\n",
    "        }\n",
    "    ],\n",
    "    \"buttons\" : [\n",
    "        {\n",
    "            \"title\" : \"버튼\",\n",
    "            \"link\" : {\n",
    "                \"web_url\" : \"www.google.com\",\n",
    "                \"mobile_web_url\" : \"www.google.com\"\n",
    "            }\n",
    "        }\n",
    "    ]\n",
    "}\n",
    "data = {\n",
    "    \"template_object\" : json.dumps(template)\n",
    "}\n",
    "requests.post('https://kapi.kakao.com/v2/api/talk/memo/default/send', headers = headers, data = data)\n",
    "\n",
    "if response.json().get('result_code') == None:\n",
    "    print('메시지를 성공적으로 보냈습니다.')\n",
    "else:\n",
    "    print('메시지를 성공적으로 보내지 못했습니다. 오류메시지 : ' + str(response.json()))"
   ]
  },
  {
   "cell_type": "code",
   "execution_count": 49,
   "id": "3a28bbad",
   "metadata": {
    "ExecuteTime": {
     "end_time": "2023-10-17T10:51:00.678806Z",
     "start_time": "2023-10-17T10:51:00.563689Z"
    }
   },
   "outputs": [
    {
     "name": "stdout",
     "output_type": "stream",
     "text": [
      "메시지를 성공적으로 보냈습니다.\n"
     ]
    }
   ],
   "source": [
    "url = \"https://kapi.kakao.com/v2/api/talk/memo/send\"\n",
    "headers = {\n",
    "    'Content-Type': 'application/x-www-form-urlencoded',\n",
    "    \"Authorization\": \"Bearer \" + \"{access_token}\"\n",
    "}\n",
    "\n",
    "data={\n",
    "        \"template_id\" : \"99719\"\n",
    "}\n",
    "\n",
    "response = requests.post(url, headers=headers,data=data )\n",
    "if response.json().get('result_code') == None:\n",
    "    print('메시지를 성공적으로 보냈습니다.')\n",
    "else:\n",
    "    print('메시지를 성공적으로 보내지 못했습니다. 오류메시지 : ' + str(response.json()))"
   ]
  }
 ],
 "metadata": {
  "kernelspec": {
   "display_name": "Python 3 (ipykernel)",
   "language": "python",
   "name": "python3"
  },
  "language_info": {
   "codemirror_mode": {
    "name": "ipython",
    "version": 3
   },
   "file_extension": ".py",
   "mimetype": "text/x-python",
   "name": "python",
   "nbconvert_exporter": "python",
   "pygments_lexer": "ipython3",
   "version": "3.10.0rc2"
  },
  "toc": {
   "base_numbering": 1,
   "nav_menu": {},
   "number_sections": true,
   "sideBar": true,
   "skip_h1_title": false,
   "title_cell": "Table of Contents",
   "title_sidebar": "Contents",
   "toc_cell": false,
   "toc_position": {},
   "toc_section_display": true,
   "toc_window_display": false
  }
 },
 "nbformat": 4,
 "nbformat_minor": 5
}
